{
 "cells": [
  {
   "cell_type": "code",
   "execution_count": 7,
   "id": "ae73d21b",
   "metadata": {},
   "outputs": [],
   "source": [
    "from email.mime.text import MIMEText\n",
    "from email.mime.multipart import MIMEMultipart\n",
    "import smtplib\n",
    "import os\n"
   ]
  },
  {
   "cell_type": "code",
   "execution_count": 8,
   "id": "5f71a5ff",
   "metadata": {},
   "outputs": [
    {
     "data": {
      "text/plain": [
       "(235, b'2.7.0 Authentication successful')"
      ]
     },
     "execution_count": 8,
     "metadata": {},
     "output_type": "execute_result"
    }
   ],
   "source": [
    "smtp = smtplib.SMTP('smtp.outlook.com', 587)\n",
    "smtp.ehlo()\n",
    "smtp.starttls()\n",
    "smtp.login('20bcs061@mcet.in', 'K.shyam@2003.')"
   ]
  },
  {
   "cell_type": "code",
   "execution_count": 11,
   "id": "268d0d5f",
   "metadata": {},
   "outputs": [],
   "source": [
    "msg = MIMEMultipart()\n",
    "msg['Subject'] = \"Testing mail for MP\"\n",
    "msg.attach(MIMEText('This mail is sent too check or test email sending for our mini project.'))"
   ]
  },
  {
   "cell_type": "code",
   "execution_count": 12,
   "id": "950ed7f4",
   "metadata": {},
   "outputs": [
    {
     "data": {
      "text/plain": [
       "(221, b'2.0.0 Service closing transmission channel')"
      ]
     },
     "execution_count": 12,
     "metadata": {},
     "output_type": "execute_result"
    }
   ],
   "source": [
    "to = [\"20bcs005@mcet.in\",\"20bcs015@mcet.in\",\"shyamjoshuva@gmail.com\"]\n",
    "smtp.sendmail(from_addr=\"20bcs061@mcet.in\",\n",
    "              to_addrs=to, msg=msg.as_string())\n",
    "smtp.quit()"
   ]
  }
 ],
 "metadata": {
  "kernelspec": {
   "display_name": "Python 3",
   "language": "python",
   "name": "python3"
  },
  "language_info": {
   "codemirror_mode": {
    "name": "ipython",
    "version": 3
   },
   "file_extension": ".py",
   "mimetype": "text/x-python",
   "name": "python",
   "nbconvert_exporter": "python",
   "pygments_lexer": "ipython3",
   "version": "3.8.8"
  }
 },
 "nbformat": 4,
 "nbformat_minor": 5
}
